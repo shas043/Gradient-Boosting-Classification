{
 "cells": [
  {
   "cell_type": "markdown",
   "metadata": {},
   "source": [
    "### Gradient Boosting Classification"
   ]
  },
  {
   "cell_type": "markdown",
   "metadata": {},
   "source": [
    "Gradient Boosting Classification is an ensemble technique in which each predictor tries to improve on it's predecessors by reducing erros. In every iteration, it fits a new predictor to the residual errors made by the previous predictor.    \n",
    "Dataset used - Breast Cancer from SKLearn library"
   ]
  },
  {
   "cell_type": "markdown",
   "metadata": {},
   "source": [
    "**Important  Hyperparameters Used in this Notebook:**      \n",
    "    1. Learning Rate: Controls the rate at which model learns. \n",
    "    This is done by multiplying the error of the previous model with the learning rate, \n",
    "    which then gets used as learning rate in the next decision tree. Hence more the error, lower the learning rate \n",
    "    and hence slower the model learns.\n",
    "    2. n-estimators: is the number of trees used in the model. \n",
    "    If the learning rate is low, we need more trees to train the model. \n",
    "    3. Max Depth: The maximum depth limits the number of nodes in the tree. Used to control over-fitting as higher \n",
    "    depth will allow model to learn relations very specific to a specific sample. \n",
    "    \n",
    "    And Finally!!\n",
    "    \n",
    "    GRID SEARCH - In gradient boosting, the hyperparameter configuraiton becomes challenging due to the number of \n",
    "    hyperparametes and their mutual interactions that influence the behaviour of the model. Hence we use a search \n",
    "    process to find the best configuration of the model hyperparameters. Two popular ones are random search and grid \n",
    "    search. In this notebook we use Grid Search with three key hyperparameters: n-estimators, learning rate, and max\n",
    "    depth."
   ]
  },
  {
   "cell_type": "code",
   "execution_count": 27,
   "metadata": {},
   "outputs": [],
   "source": [
    "# Import libraries\n",
    "import pandas as pd\n",
    "import numpy as np\n",
    "import matplotlib.pyplot as plt\n",
    "from matplotlib.pyplot import *\n",
    "import seaborn as sns # plots\n",
    "\n",
    "from sklearn.datasets import load_breast_cancer #for loading dataset from sklearn\n",
    "from sklearn.model_selection import KFold #for splitting train and test data\n",
    "from sklearn.ensemble import GradientBoostingClassifier #main prediction model\n",
    "from sklearn.metrics import classification_report #for reporting performance"
   ]
  },
  {
   "cell_type": "code",
   "execution_count": 17,
   "metadata": {},
   "outputs": [
    {
     "data": {
      "text/html": [
       "<div>\n",
       "<style scoped>\n",
       "    .dataframe tbody tr th:only-of-type {\n",
       "        vertical-align: middle;\n",
       "    }\n",
       "\n",
       "    .dataframe tbody tr th {\n",
       "        vertical-align: top;\n",
       "    }\n",
       "\n",
       "    .dataframe thead th {\n",
       "        text-align: right;\n",
       "    }\n",
       "</style>\n",
       "<table border=\"1\" class=\"dataframe\">\n",
       "  <thead>\n",
       "    <tr style=\"text-align: right;\">\n",
       "      <th></th>\n",
       "      <th>mean radius</th>\n",
       "      <th>mean texture</th>\n",
       "      <th>mean perimeter</th>\n",
       "      <th>mean area</th>\n",
       "      <th>mean smoothness</th>\n",
       "      <th>mean compactness</th>\n",
       "      <th>mean concavity</th>\n",
       "      <th>mean concave points</th>\n",
       "      <th>mean symmetry</th>\n",
       "      <th>mean fractal dimension</th>\n",
       "      <th>...</th>\n",
       "      <th>worst radius</th>\n",
       "      <th>worst texture</th>\n",
       "      <th>worst perimeter</th>\n",
       "      <th>worst area</th>\n",
       "      <th>worst smoothness</th>\n",
       "      <th>worst compactness</th>\n",
       "      <th>worst concavity</th>\n",
       "      <th>worst concave points</th>\n",
       "      <th>worst symmetry</th>\n",
       "      <th>worst fractal dimension</th>\n",
       "    </tr>\n",
       "  </thead>\n",
       "  <tbody>\n",
       "    <tr>\n",
       "      <th>0</th>\n",
       "      <td>17.99</td>\n",
       "      <td>10.38</td>\n",
       "      <td>122.80</td>\n",
       "      <td>1001.0</td>\n",
       "      <td>0.11840</td>\n",
       "      <td>0.27760</td>\n",
       "      <td>0.3001</td>\n",
       "      <td>0.14710</td>\n",
       "      <td>0.2419</td>\n",
       "      <td>0.07871</td>\n",
       "      <td>...</td>\n",
       "      <td>25.38</td>\n",
       "      <td>17.33</td>\n",
       "      <td>184.60</td>\n",
       "      <td>2019.0</td>\n",
       "      <td>0.1622</td>\n",
       "      <td>0.6656</td>\n",
       "      <td>0.7119</td>\n",
       "      <td>0.2654</td>\n",
       "      <td>0.4601</td>\n",
       "      <td>0.11890</td>\n",
       "    </tr>\n",
       "    <tr>\n",
       "      <th>1</th>\n",
       "      <td>20.57</td>\n",
       "      <td>17.77</td>\n",
       "      <td>132.90</td>\n",
       "      <td>1326.0</td>\n",
       "      <td>0.08474</td>\n",
       "      <td>0.07864</td>\n",
       "      <td>0.0869</td>\n",
       "      <td>0.07017</td>\n",
       "      <td>0.1812</td>\n",
       "      <td>0.05667</td>\n",
       "      <td>...</td>\n",
       "      <td>24.99</td>\n",
       "      <td>23.41</td>\n",
       "      <td>158.80</td>\n",
       "      <td>1956.0</td>\n",
       "      <td>0.1238</td>\n",
       "      <td>0.1866</td>\n",
       "      <td>0.2416</td>\n",
       "      <td>0.1860</td>\n",
       "      <td>0.2750</td>\n",
       "      <td>0.08902</td>\n",
       "    </tr>\n",
       "    <tr>\n",
       "      <th>2</th>\n",
       "      <td>19.69</td>\n",
       "      <td>21.25</td>\n",
       "      <td>130.00</td>\n",
       "      <td>1203.0</td>\n",
       "      <td>0.10960</td>\n",
       "      <td>0.15990</td>\n",
       "      <td>0.1974</td>\n",
       "      <td>0.12790</td>\n",
       "      <td>0.2069</td>\n",
       "      <td>0.05999</td>\n",
       "      <td>...</td>\n",
       "      <td>23.57</td>\n",
       "      <td>25.53</td>\n",
       "      <td>152.50</td>\n",
       "      <td>1709.0</td>\n",
       "      <td>0.1444</td>\n",
       "      <td>0.4245</td>\n",
       "      <td>0.4504</td>\n",
       "      <td>0.2430</td>\n",
       "      <td>0.3613</td>\n",
       "      <td>0.08758</td>\n",
       "    </tr>\n",
       "    <tr>\n",
       "      <th>3</th>\n",
       "      <td>11.42</td>\n",
       "      <td>20.38</td>\n",
       "      <td>77.58</td>\n",
       "      <td>386.1</td>\n",
       "      <td>0.14250</td>\n",
       "      <td>0.28390</td>\n",
       "      <td>0.2414</td>\n",
       "      <td>0.10520</td>\n",
       "      <td>0.2597</td>\n",
       "      <td>0.09744</td>\n",
       "      <td>...</td>\n",
       "      <td>14.91</td>\n",
       "      <td>26.50</td>\n",
       "      <td>98.87</td>\n",
       "      <td>567.7</td>\n",
       "      <td>0.2098</td>\n",
       "      <td>0.8663</td>\n",
       "      <td>0.6869</td>\n",
       "      <td>0.2575</td>\n",
       "      <td>0.6638</td>\n",
       "      <td>0.17300</td>\n",
       "    </tr>\n",
       "    <tr>\n",
       "      <th>4</th>\n",
       "      <td>20.29</td>\n",
       "      <td>14.34</td>\n",
       "      <td>135.10</td>\n",
       "      <td>1297.0</td>\n",
       "      <td>0.10030</td>\n",
       "      <td>0.13280</td>\n",
       "      <td>0.1980</td>\n",
       "      <td>0.10430</td>\n",
       "      <td>0.1809</td>\n",
       "      <td>0.05883</td>\n",
       "      <td>...</td>\n",
       "      <td>22.54</td>\n",
       "      <td>16.67</td>\n",
       "      <td>152.20</td>\n",
       "      <td>1575.0</td>\n",
       "      <td>0.1374</td>\n",
       "      <td>0.2050</td>\n",
       "      <td>0.4000</td>\n",
       "      <td>0.1625</td>\n",
       "      <td>0.2364</td>\n",
       "      <td>0.07678</td>\n",
       "    </tr>\n",
       "  </tbody>\n",
       "</table>\n",
       "<p>5 rows × 30 columns</p>\n",
       "</div>"
      ],
      "text/plain": [
       "   mean radius  mean texture  mean perimeter  mean area  mean smoothness  \\\n",
       "0        17.99         10.38          122.80     1001.0          0.11840   \n",
       "1        20.57         17.77          132.90     1326.0          0.08474   \n",
       "2        19.69         21.25          130.00     1203.0          0.10960   \n",
       "3        11.42         20.38           77.58      386.1          0.14250   \n",
       "4        20.29         14.34          135.10     1297.0          0.10030   \n",
       "\n",
       "   mean compactness  mean concavity  mean concave points  mean symmetry  \\\n",
       "0           0.27760          0.3001              0.14710         0.2419   \n",
       "1           0.07864          0.0869              0.07017         0.1812   \n",
       "2           0.15990          0.1974              0.12790         0.2069   \n",
       "3           0.28390          0.2414              0.10520         0.2597   \n",
       "4           0.13280          0.1980              0.10430         0.1809   \n",
       "\n",
       "   mean fractal dimension  ...  worst radius  worst texture  worst perimeter  \\\n",
       "0                 0.07871  ...         25.38          17.33           184.60   \n",
       "1                 0.05667  ...         24.99          23.41           158.80   \n",
       "2                 0.05999  ...         23.57          25.53           152.50   \n",
       "3                 0.09744  ...         14.91          26.50            98.87   \n",
       "4                 0.05883  ...         22.54          16.67           152.20   \n",
       "\n",
       "   worst area  worst smoothness  worst compactness  worst concavity  \\\n",
       "0      2019.0            0.1622             0.6656           0.7119   \n",
       "1      1956.0            0.1238             0.1866           0.2416   \n",
       "2      1709.0            0.1444             0.4245           0.4504   \n",
       "3       567.7            0.2098             0.8663           0.6869   \n",
       "4      1575.0            0.1374             0.2050           0.4000   \n",
       "\n",
       "   worst concave points  worst symmetry  worst fractal dimension  \n",
       "0                0.2654          0.4601                  0.11890  \n",
       "1                0.1860          0.2750                  0.08902  \n",
       "2                0.2430          0.3613                  0.08758  \n",
       "3                0.2575          0.6638                  0.17300  \n",
       "4                0.1625          0.2364                  0.07678  \n",
       "\n",
       "[5 rows x 30 columns]"
      ]
     },
     "execution_count": 17,
     "metadata": {},
     "output_type": "execute_result"
    }
   ],
   "source": [
    "#load Dataset\n",
    "df=pd.DataFrame(load_breast_cancer()['data'], columns=(load_breast_cancer()['feature_names']) )\n",
    "df.head()"
   ]
  },
  {
   "cell_type": "code",
   "execution_count": 18,
   "metadata": {},
   "outputs": [
    {
     "name": "stdout",
     "output_type": "stream",
     "text": [
      "<class 'pandas.core.frame.DataFrame'>\n",
      "RangeIndex: 569 entries, 0 to 568\n",
      "Data columns (total 30 columns):\n",
      "mean radius                569 non-null float64\n",
      "mean texture               569 non-null float64\n",
      "mean perimeter             569 non-null float64\n",
      "mean area                  569 non-null float64\n",
      "mean smoothness            569 non-null float64\n",
      "mean compactness           569 non-null float64\n",
      "mean concavity             569 non-null float64\n",
      "mean concave points        569 non-null float64\n",
      "mean symmetry              569 non-null float64\n",
      "mean fractal dimension     569 non-null float64\n",
      "radius error               569 non-null float64\n",
      "texture error              569 non-null float64\n",
      "perimeter error            569 non-null float64\n",
      "area error                 569 non-null float64\n",
      "smoothness error           569 non-null float64\n",
      "compactness error          569 non-null float64\n",
      "concavity error            569 non-null float64\n",
      "concave points error       569 non-null float64\n",
      "symmetry error             569 non-null float64\n",
      "fractal dimension error    569 non-null float64\n",
      "worst radius               569 non-null float64\n",
      "worst texture              569 non-null float64\n",
      "worst perimeter            569 non-null float64\n",
      "worst area                 569 non-null float64\n",
      "worst smoothness           569 non-null float64\n",
      "worst compactness          569 non-null float64\n",
      "worst concavity            569 non-null float64\n",
      "worst concave points       569 non-null float64\n",
      "worst symmetry             569 non-null float64\n",
      "worst fractal dimension    569 non-null float64\n",
      "dtypes: float64(30)\n",
      "memory usage: 133.4 KB\n"
     ]
    }
   ],
   "source": [
    "df.info()"
   ]
  },
  {
   "cell_type": "code",
   "execution_count": 25,
   "metadata": {},
   "outputs": [
    {
     "data": {
      "text/plain": [
       "mean radius                0\n",
       "mean texture               0\n",
       "mean perimeter             0\n",
       "mean area                  0\n",
       "mean smoothness            0\n",
       "mean compactness           0\n",
       "mean concavity             0\n",
       "mean concave points        0\n",
       "mean symmetry              0\n",
       "mean fractal dimension     0\n",
       "radius error               0\n",
       "texture error              0\n",
       "perimeter error            0\n",
       "area error                 0\n",
       "smoothness error           0\n",
       "compactness error          0\n",
       "concavity error            0\n",
       "concave points error       0\n",
       "symmetry error             0\n",
       "fractal dimension error    0\n",
       "worst radius               0\n",
       "worst texture              0\n",
       "worst perimeter            0\n",
       "worst area                 0\n",
       "worst smoothness           0\n",
       "worst compactness          0\n",
       "worst concavity            0\n",
       "worst concave points       0\n",
       "worst symmetry             0\n",
       "worst fractal dimension    0\n",
       "y                          0\n",
       "dtype: int64"
      ]
     },
     "execution_count": 25,
     "metadata": {},
     "output_type": "execute_result"
    }
   ],
   "source": [
    "# Checking for null values\n",
    "df.isnull().sum()"
   ]
  },
  {
   "cell_type": "code",
   "execution_count": 26,
   "metadata": {},
   "outputs": [],
   "source": [
    "#Creating target column in dataframe\n",
    "df['y']=pd.DataFrame(load_breast_cancer()['target'])"
   ]
  },
  {
   "cell_type": "code",
   "execution_count": 23,
   "metadata": {},
   "outputs": [
    {
     "data": {
      "text/plain": [
       "567    0\n",
       "568    1\n",
       "Name: y, dtype: int64"
      ]
     },
     "execution_count": 23,
     "metadata": {},
     "output_type": "execute_result"
    }
   ],
   "source": [
    "df['y'].tail(2)"
   ]
  },
  {
   "cell_type": "code",
   "execution_count": 30,
   "metadata": {},
   "outputs": [
    {
     "name": "stdout",
     "output_type": "stream",
     "text": [
      "0    212\n",
      "1    357\n",
      "Name: y, dtype: int64\n"
     ]
    },
    {
     "data": {
      "image/png": "[encoded data removed]",
      "text/plain": [
       "<Figure size 288x360 with 1 Axes>"
      ]
     },
     "metadata": {},
     "output_type": "display_data"
    }
   ],
   "source": [
    "#Creating visualization for 'target' column distibution in the data\n",
    "sns.set(style=\"darkgrid\", color_codes=True)\n",
    "plt.figure(figsize=(4,5))\n",
    "print(df['y'].value_counts().sort_index())\n",
    "df['y'].value_counts().sort_index().plot(kind='bar', color = {'green','yellow'})\n",
    "plt.xlabel('Class', size=15)\n",
    "plt.ylabel('Count', size=15)\n",
    "plt.title('Target column distribution', size=15)\n",
    "\n",
    "plt.show()"
   ]
  },
  {
   "cell_type": "markdown",
   "metadata": {},
   "source": [
    "#### in the above figure, 1 represents positive (patients having breast cancer) and 0 represents vice versa"
   ]
  },
  {
   "cell_type": "code",
   "execution_count": 34,
   "metadata": {},
   "outputs": [],
   "source": [
    "# Splitting dataset into train and test sets using KFold\n",
    "\n",
    "X,y = df.drop('y',axis=1),df.y#dropped target column from feature dataframe X. Created seperate dataframe for target 'y'\n",
    "\n",
    "kf = KFold(n_splits=5,random_state=42,shuffle=True)\n",
    "\n",
    "for train_index,test_index in kf.split(X):\n",
    "    X_train,X_test = X.iloc[train_index],X.iloc[test_index],\n",
    "    y_train,y_test = y.iloc[train_index],y.iloc[test_index],"
   ]
  },
  {
   "cell_type": "code",
   "execution_count": 35,
   "metadata": {},
   "outputs": [
    {
     "data": {
      "text/html": [
       "<div>\n",
       "<style scoped>\n",
       "    .dataframe tbody tr th:only-of-type {\n",
       "        vertical-align: middle;\n",
       "    }\n",
       "\n",
       "    .dataframe tbody tr th {\n",
       "        vertical-align: top;\n",
       "    }\n",
       "\n",
       "    .dataframe thead th {\n",
       "        text-align: right;\n",
       "    }\n",
       "</style>\n",
       "<table border=\"1\" class=\"dataframe\">\n",
       "  <thead>\n",
       "    <tr style=\"text-align: right;\">\n",
       "      <th></th>\n",
       "      <th>mean radius</th>\n",
       "      <th>mean texture</th>\n",
       "      <th>mean perimeter</th>\n",
       "      <th>mean area</th>\n",
       "      <th>mean smoothness</th>\n",
       "      <th>mean compactness</th>\n",
       "      <th>mean concavity</th>\n",
       "      <th>mean concave points</th>\n",
       "      <th>mean symmetry</th>\n",
       "      <th>mean fractal dimension</th>\n",
       "      <th>...</th>\n",
       "      <th>worst radius</th>\n",
       "      <th>worst texture</th>\n",
       "      <th>worst perimeter</th>\n",
       "      <th>worst area</th>\n",
       "      <th>worst smoothness</th>\n",
       "      <th>worst compactness</th>\n",
       "      <th>worst concavity</th>\n",
       "      <th>worst concave points</th>\n",
       "      <th>worst symmetry</th>\n",
       "      <th>worst fractal dimension</th>\n",
       "    </tr>\n",
       "  </thead>\n",
       "  <tbody>\n",
       "    <tr>\n",
       "      <th>0</th>\n",
       "      <td>17.99</td>\n",
       "      <td>10.38</td>\n",
       "      <td>122.80</td>\n",
       "      <td>1001.0</td>\n",
       "      <td>0.1184</td>\n",
       "      <td>0.2776</td>\n",
       "      <td>0.3001</td>\n",
       "      <td>0.14710</td>\n",
       "      <td>0.2419</td>\n",
       "      <td>0.07871</td>\n",
       "      <td>...</td>\n",
       "      <td>25.38</td>\n",
       "      <td>17.33</td>\n",
       "      <td>184.60</td>\n",
       "      <td>2019.0</td>\n",
       "      <td>0.1622</td>\n",
       "      <td>0.6656</td>\n",
       "      <td>0.7119</td>\n",
       "      <td>0.2654</td>\n",
       "      <td>0.4601</td>\n",
       "      <td>0.11890</td>\n",
       "    </tr>\n",
       "    <tr>\n",
       "      <th>2</th>\n",
       "      <td>19.69</td>\n",
       "      <td>21.25</td>\n",
       "      <td>130.00</td>\n",
       "      <td>1203.0</td>\n",
       "      <td>0.1096</td>\n",
       "      <td>0.1599</td>\n",
       "      <td>0.1974</td>\n",
       "      <td>0.12790</td>\n",
       "      <td>0.2069</td>\n",
       "      <td>0.05999</td>\n",
       "      <td>...</td>\n",
       "      <td>23.57</td>\n",
       "      <td>25.53</td>\n",
       "      <td>152.50</td>\n",
       "      <td>1709.0</td>\n",
       "      <td>0.1444</td>\n",
       "      <td>0.4245</td>\n",
       "      <td>0.4504</td>\n",
       "      <td>0.2430</td>\n",
       "      <td>0.3613</td>\n",
       "      <td>0.08758</td>\n",
       "    </tr>\n",
       "    <tr>\n",
       "      <th>3</th>\n",
       "      <td>11.42</td>\n",
       "      <td>20.38</td>\n",
       "      <td>77.58</td>\n",
       "      <td>386.1</td>\n",
       "      <td>0.1425</td>\n",
       "      <td>0.2839</td>\n",
       "      <td>0.2414</td>\n",
       "      <td>0.10520</td>\n",
       "      <td>0.2597</td>\n",
       "      <td>0.09744</td>\n",
       "      <td>...</td>\n",
       "      <td>14.91</td>\n",
       "      <td>26.50</td>\n",
       "      <td>98.87</td>\n",
       "      <td>567.7</td>\n",
       "      <td>0.2098</td>\n",
       "      <td>0.8663</td>\n",
       "      <td>0.6869</td>\n",
       "      <td>0.2575</td>\n",
       "      <td>0.6638</td>\n",
       "      <td>0.17300</td>\n",
       "    </tr>\n",
       "    <tr>\n",
       "      <th>4</th>\n",
       "      <td>20.29</td>\n",
       "      <td>14.34</td>\n",
       "      <td>135.10</td>\n",
       "      <td>1297.0</td>\n",
       "      <td>0.1003</td>\n",
       "      <td>0.1328</td>\n",
       "      <td>0.1980</td>\n",
       "      <td>0.10430</td>\n",
       "      <td>0.1809</td>\n",
       "      <td>0.05883</td>\n",
       "      <td>...</td>\n",
       "      <td>22.54</td>\n",
       "      <td>16.67</td>\n",
       "      <td>152.20</td>\n",
       "      <td>1575.0</td>\n",
       "      <td>0.1374</td>\n",
       "      <td>0.2050</td>\n",
       "      <td>0.4000</td>\n",
       "      <td>0.1625</td>\n",
       "      <td>0.2364</td>\n",
       "      <td>0.07678</td>\n",
       "    </tr>\n",
       "    <tr>\n",
       "      <th>5</th>\n",
       "      <td>12.45</td>\n",
       "      <td>15.70</td>\n",
       "      <td>82.57</td>\n",
       "      <td>477.1</td>\n",
       "      <td>0.1278</td>\n",
       "      <td>0.1700</td>\n",
       "      <td>0.1578</td>\n",
       "      <td>0.08089</td>\n",
       "      <td>0.2087</td>\n",
       "      <td>0.07613</td>\n",
       "      <td>...</td>\n",
       "      <td>15.47</td>\n",
       "      <td>23.75</td>\n",
       "      <td>103.40</td>\n",
       "      <td>741.6</td>\n",
       "      <td>0.1791</td>\n",
       "      <td>0.5249</td>\n",
       "      <td>0.5355</td>\n",
       "      <td>0.1741</td>\n",
       "      <td>0.3985</td>\n",
       "      <td>0.12440</td>\n",
       "    </tr>\n",
       "  </tbody>\n",
       "</table>\n",
       "<p>5 rows × 30 columns</p>\n",
       "</div>"
      ],
      "text/plain": [
       "   mean radius  mean texture  mean perimeter  mean area  mean smoothness  \\\n",
       "0        17.99         10.38          122.80     1001.0           0.1184   \n",
       "2        19.69         21.25          130.00     1203.0           0.1096   \n",
       "3        11.42         20.38           77.58      386.1           0.1425   \n",
       "4        20.29         14.34          135.10     1297.0           0.1003   \n",
       "5        12.45         15.70           82.57      477.1           0.1278   \n",
       "\n",
       "   mean compactness  mean concavity  mean concave points  mean symmetry  \\\n",
       "0            0.2776          0.3001              0.14710         0.2419   \n",
       "2            0.1599          0.1974              0.12790         0.2069   \n",
       "3            0.2839          0.2414              0.10520         0.2597   \n",
       "4            0.1328          0.1980              0.10430         0.1809   \n",
       "5            0.1700          0.1578              0.08089         0.2087   \n",
       "\n",
       "   mean fractal dimension  ...  worst radius  worst texture  worst perimeter  \\\n",
       "0                 0.07871  ...         25.38          17.33           184.60   \n",
       "2                 0.05999  ...         23.57          25.53           152.50   \n",
       "3                 0.09744  ...         14.91          26.50            98.87   \n",
       "4                 0.05883  ...         22.54          16.67           152.20   \n",
       "5                 0.07613  ...         15.47          23.75           103.40   \n",
       "\n",
       "   worst area  worst smoothness  worst compactness  worst concavity  \\\n",
       "0      2019.0            0.1622             0.6656           0.7119   \n",
       "2      1709.0            0.1444             0.4245           0.4504   \n",
       "3       567.7            0.2098             0.8663           0.6869   \n",
       "4      1575.0            0.1374             0.2050           0.4000   \n",
       "5       741.6            0.1791             0.5249           0.5355   \n",
       "\n",
       "   worst concave points  worst symmetry  worst fractal dimension  \n",
       "0                0.2654          0.4601                  0.11890  \n",
       "2                0.2430          0.3613                  0.08758  \n",
       "3                0.2575          0.6638                  0.17300  \n",
       "4                0.1625          0.2364                  0.07678  \n",
       "5                0.1741          0.3985                  0.12440  \n",
       "\n",
       "[5 rows x 30 columns]"
      ]
     },
     "execution_count": 35,
     "metadata": {},
     "output_type": "execute_result"
    }
   ],
   "source": [
    "X_train.head()"
   ]
  },
  {
   "cell_type": "code",
   "execution_count": 39,
   "metadata": {},
   "outputs": [
    {
     "data": {
      "text/plain": [
       "552    1\n",
       "554    1\n",
       "560    1\n",
       "563    0\n",
       "566    0\n",
       "Name: y, dtype: int64"
      ]
     },
     "execution_count": 39,
     "metadata": {},
     "output_type": "execute_result"
    }
   ],
   "source": [
    "y_test.tail()"
   ]
  },
  {
   "cell_type": "code",
   "execution_count": 44,
   "metadata": {},
   "outputs": [
    {
     "data": {
      "text/plain": [
       "{'ccp_alpha': 0.0,\n",
       " 'criterion': 'friedman_mse',\n",
       " 'init': None,\n",
       " 'learning_rate': 0.1,\n",
       " 'loss': 'deviance',\n",
       " 'max_depth': 3,\n",
       " 'max_features': None,\n",
       " 'max_leaf_nodes': None,\n",
       " 'min_impurity_decrease': 0.0,\n",
       " 'min_impurity_split': None,\n",
       " 'min_samples_leaf': 1,\n",
       " 'min_samples_split': 2,\n",
       " 'min_weight_fraction_leaf': 0.0,\n",
       " 'n_estimators': 100,\n",
       " 'n_iter_no_change': None,\n",
       " 'presort': 'deprecated',\n",
       " 'random_state': None,\n",
       " 'subsample': 1.0,\n",
       " 'tol': 0.0001,\n",
       " 'validation_fraction': 0.1,\n",
       " 'verbose': 0,\n",
       " 'warm_start': False}"
      ]
     },
     "execution_count": 44,
     "metadata": {},
     "output_type": "execute_result"
    }
   ],
   "source": [
    "#Modelling\n",
    "gradient_booster = GradientBoostingClassifier(learning_rate=0.1) #here the n-estimators defaults to 100\n",
    "gradient_booster.get_params()\n"
   ]
  },
  {
   "cell_type": "code",
   "execution_count": 45,
   "metadata": {},
   "outputs": [
    {
     "data": {
      "text/plain": [
       "GradientBoostingClassifier()"
      ]
     },
     "execution_count": 45,
     "metadata": {},
     "output_type": "execute_result"
    }
   ],
   "source": [
    "gradient_booster.fit(X_train,y_train)"
   ]
  },
  {
   "cell_type": "code",
   "execution_count": 47,
   "metadata": {},
   "outputs": [
    {
     "name": "stdout",
     "output_type": "stream",
     "text": [
      "              precision    recall  f1-score   support\n",
      "\n",
      "           0       0.98      0.93      0.96        46\n",
      "           1       0.96      0.99      0.97        67\n",
      "\n",
      "    accuracy                           0.96       113\n",
      "   macro avg       0.97      0.96      0.96       113\n",
      "weighted avg       0.96      0.96      0.96       113\n",
      "\n"
     ]
    }
   ],
   "source": [
    "#Checking model accuracy\n",
    "print(classification_report(y_test,gradient_booster.predict(X_test)))"
   ]
  },
  {
   "cell_type": "markdown",
   "metadata": {},
   "source": [
    "We see that the accuracy with default model is around 96%. Now we will use some hyperparametorization techniques to check if that can improve accuracy"
   ]
  },
  {
   "cell_type": "markdown",
   "metadata": {},
   "source": [
    "### Hyperparameters"
   ]
  },
  {
   "cell_type": "markdown",
   "metadata": {},
   "source": [
    "1. Iterations with varying N-Estimators"
   ]
  },
  {
   "cell_type": "code",
   "execution_count": 111,
   "metadata": {},
   "outputs": [
    {
     "data": {
      "text/plain": [
       "((569, 30), (569,))"
      ]
     },
     "execution_count": 111,
     "metadata": {},
     "output_type": "execute_result"
    }
   ],
   "source": [
    "from sklearn import datasets\n",
    "X, y = datasets.load_breast_cancer(return_X_y=True)\n",
    "X.shape, y.shape"
   ]
  },
  {
   "cell_type": "code",
   "execution_count": 112,
   "metadata": {},
   "outputs": [],
   "source": [
    "#Creating a function for different ctreating models using different n-estimators value\n",
    "\n",
    "def get_models():\n",
    "    models = dict()\n",
    "    # define number of trees to consider\n",
    "    n_trees = [10, 50, 100, 500, 1000]\n",
    "    for n in n_trees:\n",
    "        models[str(n)] = GradientBoostingClassifier(n_estimators=n)\n",
    "    return models"
   ]
  },
  {
   "cell_type": "code",
   "execution_count": 113,
   "metadata": {},
   "outputs": [],
   "source": [
    "# Function to evaluate models using cross-validation\n",
    "from sklearn.model_selection import cross_val_score\n",
    "from sklearn.model_selection import RepeatedStratifiedKFold\n",
    "\n",
    "\n",
    "def evaluate_model(model, X, y):\n",
    "    # define the evaluation procedure\n",
    "    cv = RepeatedStratifiedKFold(n_splits=10, n_repeats=3, random_state=1)\n",
    "    # evaluate the model and collect the results\n",
    "    scores = cross_val_score(model, X, y, scoring='accuracy', cv=cv, n_jobs=-1)\n",
    "    #cv determines the cross-validation splitting strategy. None means default 5-fold validation\n",
    "    #n_jobs means number of jobs to run in parallel. -1 value means using all processors\n",
    "    return scores"
   ]
  },
  {
   "cell_type": "code",
   "execution_count": 114,
   "metadata": {},
   "outputs": [
    {
     "name": "stdout",
     "output_type": "stream",
     "text": [
      ">10 0.941 (0.029)\n",
      ">50 0.954 (0.029)\n",
      ">100 0.962 (0.026)\n",
      ">500 0.968 (0.022)\n",
      ">1000 0.966 (0.023)\n"
     ]
    }
   ],
   "source": [
    "# Calling the above functions on the prepared dataset\n",
    "\n",
    "# get the models to evaluate\n",
    "models = get_models()\n",
    "# evaluate the models and store results\n",
    "results, names = list(), list()\n",
    "for name, model in models.items():\n",
    "    # evaluate the model\n",
    "    scores = evaluate_model(model, X, y)\n",
    "    # store the results\n",
    "    results.append(scores)\n",
    "    names.append(name)\n",
    "    # Print the performance along the way\n",
    "    print('>%s %.3f (%.3f)' % (name, np.mean(scores), np.std(scores)))\n"
   ]
  },
  {
   "cell_type": "code",
   "execution_count": 115,
   "metadata": {},
   "outputs": [
    {
     "data": {
      "image/png": "[encoded data removed]",
      "text/plain": [
       "<Figure size 432x288 with 1 Axes>"
      ]
     },
     "metadata": {},
     "output_type": "display_data"
    }
   ],
   "source": [
    "# model performance visualization for comparison \n",
    "plt.boxplot(results, labels=names, showmeans=True)\n",
    "plt.show()"
   ]
  },
  {
   "cell_type": "markdown",
   "metadata": {},
   "source": [
    " Iterations through learning rate"
   ]
  },
  {
   "cell_type": "code",
   "execution_count": 116,
   "metadata": {},
   "outputs": [],
   "source": [
    "# get a list of models to evaluate for different standard learning rates\n",
    "def get_models():\n",
    "    models = dict()\n",
    "    # define learning rates to explore\n",
    "    for i in [0.0001, 0.001, 0.01, 0.1, 1.0]:\n",
    "        key = '%.4f' % i\n",
    "        models[key] = GradientBoostingClassifier(learning_rate=i)\n",
    "    return models"
   ]
  },
  {
   "cell_type": "code",
   "execution_count": 117,
   "metadata": {},
   "outputs": [
    {
     "name": "stdout",
     "output_type": "stream",
     "text": [
      ">0.0001 0.627 (0.007)\n",
      ">0.0010 0.627 (0.007)\n",
      ">0.0100 0.944 (0.031)\n",
      ">0.1000 0.960 (0.028)\n",
      ">1.0000 0.965 (0.022)\n"
     ]
    }
   ],
   "source": [
    "#Running models again for different learning rates\n",
    "\n",
    "# get the models to evaluate\n",
    "models = get_models()\n",
    "# evaluate the models and store results\n",
    "results, names = list(), list()\n",
    "for name, model in models.items():\n",
    "    # evaluate the model\n",
    "    scores = evaluate_model(model, X, y)\n",
    "    # store the results\n",
    "    results.append(scores)\n",
    "    names.append(name)\n",
    "    # Print the performance along the way\n",
    "    print('>%s %.3f (%.3f)' % (name, np.mean(scores), np.std(scores)))"
   ]
  },
  {
   "cell_type": "code",
   "execution_count": 118,
   "metadata": {},
   "outputs": [
    {
     "data": {
      "image/png": "[encoded data removed]",
      "text/plain": [
       "<Figure size 432x288 with 1 Axes>"
      ]
     },
     "metadata": {},
     "output_type": "display_data"
    }
   ],
   "source": [
    "# model performance visualization for comparison \n",
    "plt.boxplot(results, labels=names, showmeans=True)\n",
    "plt.show()"
   ]
  },
  {
   "cell_type": "markdown",
   "metadata": {},
   "source": [
    "##### Grid Search"
   ]
  },
  {
   "cell_type": "code",
   "execution_count": 120,
   "metadata": {},
   "outputs": [],
   "source": [
    "# Using grid search to find the best parameters for modelling process\n",
    "from sklearn.model_selection import GridSearchCV\n",
    "\n",
    "model = GradientBoostingClassifier()\n",
    "\n",
    "# define the grid of values to search\n",
    "grid = dict()\n",
    "grid['n_estimators'] = [10, 50, 100, 500, 1000]\n",
    "grid['learning_rate'] = [0.0001, 0.001, 0.01, 0.1, 1.0]\n",
    "grid['max_depth'] = [3, 7, 9, 11]\n",
    "\n",
    "# define the evaluation procedure\n",
    "cv = RepeatedStratifiedKFold(n_splits=10, n_repeats=3, random_state=1)\n",
    "# define the grid search procedure\n",
    "grid_search = GridSearchCV(estimator=model, param_grid=grid, n_jobs=-1, cv=cv, scoring='accuracy')\n",
    "# execute the grid search\n",
    "grid_result = grid_search.fit(X, y)"
   ]
  },
  {
   "cell_type": "code",
   "execution_count": 121,
   "metadata": {},
   "outputs": [
    {
     "name": "stdout",
     "output_type": "stream",
     "text": [
      "0.636039 (0.006863) with: {'learning_rate': 0.0001, 'max_depth': 3, 'n_estimators': 10}\n",
      "0.636039 (0.006863) with: {'learning_rate': 0.0001, 'max_depth': 3, 'n_estimators': 50}\n",
      "0.636039 (0.006863) with: {'learning_rate': 0.0001, 'max_depth': 3, 'n_estimators': 100}\n",
      "0.636039 (0.006863) with: {'learning_rate': 0.0001, 'max_depth': 3, 'n_estimators': 500}\n",
      "0.636039 (0.006863) with: {'learning_rate': 0.0001, 'max_depth': 3, 'n_estimators': 1000}\n",
      "0.636039 (0.006863) with: {'learning_rate': 0.0001, 'max_depth': 7, 'n_estimators': 10}\n",
      "0.636039 (0.006863) with: {'learning_rate': 0.0001, 'max_depth': 7, 'n_estimators': 50}\n",
      "0.636039 (0.006863) with: {'learning_rate': 0.0001, 'max_depth': 7, 'n_estimators': 100}\n",
      "0.636039 (0.006863) with: {'learning_rate': 0.0001, 'max_depth': 7, 'n_estimators': 500}\n",
      "0.636039 (0.006863) with: {'learning_rate': 0.0001, 'max_depth': 7, 'n_estimators': 1000}\n",
      "0.636039 (0.006863) with: {'learning_rate': 0.0001, 'max_depth': 9, 'n_estimators': 10}\n",
      "0.636039 (0.006863) with: {'learning_rate': 0.0001, 'max_depth': 9, 'n_estimators': 50}\n",
      "0.636039 (0.006863) with: {'learning_rate': 0.0001, 'max_depth': 9, 'n_estimators': 100}\n",
      "0.636039 (0.006863) with: {'learning_rate': 0.0001, 'max_depth': 9, 'n_estimators': 500}\n",
      "0.636039 (0.006863) with: {'learning_rate': 0.0001, 'max_depth': 9, 'n_estimators': 1000}\n",
      "0.636039 (0.006863) with: {'learning_rate': 0.0001, 'max_depth': 11, 'n_estimators': 10}\n",
      "0.636039 (0.006863) with: {'learning_rate': 0.0001, 'max_depth': 11, 'n_estimators': 50}\n",
      "0.636039 (0.006863) with: {'learning_rate': 0.0001, 'max_depth': 11, 'n_estimators': 100}\n",
      "0.636039 (0.006863) with: {'learning_rate': 0.0001, 'max_depth': 11, 'n_estimators': 500}\n",
      "0.636039 (0.006863) with: {'learning_rate': 0.0001, 'max_depth': 11, 'n_estimators': 1000}\n",
      "0.636039 (0.006863) with: {'learning_rate': 0.001, 'max_depth': 3, 'n_estimators': 10}\n",
      "0.636039 (0.006863) with: {'learning_rate': 0.001, 'max_depth': 3, 'n_estimators': 50}\n",
      "0.636039 (0.006863) with: {'learning_rate': 0.001, 'max_depth': 3, 'n_estimators': 100}\n",
      "0.936409 (0.036818) with: {'learning_rate': 0.001, 'max_depth': 3, 'n_estimators': 500}\n",
      "0.945926 (0.034637) with: {'learning_rate': 0.001, 'max_depth': 3, 'n_estimators': 1000}\n",
      "0.636039 (0.006863) with: {'learning_rate': 0.001, 'max_depth': 7, 'n_estimators': 10}\n",
      "0.636039 (0.006863) with: {'learning_rate': 0.001, 'max_depth': 7, 'n_estimators': 50}\n",
      "0.636039 (0.006863) with: {'learning_rate': 0.001, 'max_depth': 7, 'n_estimators': 100}\n",
      "0.938583 (0.032823) with: {'learning_rate': 0.001, 'max_depth': 7, 'n_estimators': 500}\n",
      "0.937826 (0.035153) with: {'learning_rate': 0.001, 'max_depth': 7, 'n_estimators': 1000}\n",
      "0.636039 (0.006863) with: {'learning_rate': 0.001, 'max_depth': 9, 'n_estimators': 10}\n",
      "0.636039 (0.006863) with: {'learning_rate': 0.001, 'max_depth': 9, 'n_estimators': 50}\n",
      "0.636039 (0.006863) with: {'learning_rate': 0.001, 'max_depth': 9, 'n_estimators': 100}\n",
      "0.938583 (0.032823) with: {'learning_rate': 0.001, 'max_depth': 9, 'n_estimators': 500}\n",
      "0.940000 (0.034212) with: {'learning_rate': 0.001, 'max_depth': 9, 'n_estimators': 1000}\n",
      "0.636039 (0.006863) with: {'learning_rate': 0.001, 'max_depth': 11, 'n_estimators': 10}\n",
      "0.636039 (0.006863) with: {'learning_rate': 0.001, 'max_depth': 11, 'n_estimators': 50}\n",
      "0.636039 (0.006863) with: {'learning_rate': 0.001, 'max_depth': 11, 'n_estimators': 100}\n",
      "0.937858 (0.033610) with: {'learning_rate': 0.001, 'max_depth': 11, 'n_estimators': 500}\n",
      "0.938551 (0.035306) with: {'learning_rate': 0.001, 'max_depth': 11, 'n_estimators': 1000}\n",
      "0.636039 (0.006863) with: {'learning_rate': 0.01, 'max_depth': 3, 'n_estimators': 10}\n",
      "0.937134 (0.037834) with: {'learning_rate': 0.01, 'max_depth': 3, 'n_estimators': 50}\n",
      "0.947407 (0.035482) with: {'learning_rate': 0.01, 'max_depth': 3, 'n_estimators': 100}\n",
      "0.957552 (0.032008) with: {'learning_rate': 0.01, 'max_depth': 3, 'n_estimators': 500}\n",
      "0.958986 (0.030939) with: {'learning_rate': 0.01, 'max_depth': 3, 'n_estimators': 1000}\n",
      "0.636039 (0.006863) with: {'learning_rate': 0.01, 'max_depth': 7, 'n_estimators': 10}\n",
      "0.940048 (0.031069) with: {'learning_rate': 0.01, 'max_depth': 7, 'n_estimators': 50}\n",
      "0.939984 (0.036503) with: {'learning_rate': 0.01, 'max_depth': 7, 'n_estimators': 100}\n",
      "0.939275 (0.037218) with: {'learning_rate': 0.01, 'max_depth': 7, 'n_estimators': 500}\n",
      "0.940709 (0.039105) with: {'learning_rate': 0.01, 'max_depth': 7, 'n_estimators': 1000}\n",
      "0.636039 (0.006863) with: {'learning_rate': 0.01, 'max_depth': 9, 'n_estimators': 10}\n",
      "0.938567 (0.031874) with: {'learning_rate': 0.01, 'max_depth': 9, 'n_estimators': 50}\n",
      "0.940000 (0.036007) with: {'learning_rate': 0.01, 'max_depth': 9, 'n_estimators': 100}\n",
      "0.940725 (0.037014) with: {'learning_rate': 0.01, 'max_depth': 9, 'n_estimators': 500}\n",
      "0.939984 (0.037775) with: {'learning_rate': 0.01, 'max_depth': 9, 'n_estimators': 1000}\n",
      "0.636039 (0.006863) with: {'learning_rate': 0.01, 'max_depth': 11, 'n_estimators': 10}\n",
      "0.936377 (0.033818) with: {'learning_rate': 0.01, 'max_depth': 11, 'n_estimators': 50}\n",
      "0.942931 (0.033529) with: {'learning_rate': 0.01, 'max_depth': 11, 'n_estimators': 100}\n",
      "0.940000 (0.036481) with: {'learning_rate': 0.01, 'max_depth': 11, 'n_estimators': 500}\n",
      "0.939984 (0.038674) with: {'learning_rate': 0.01, 'max_depth': 11, 'n_estimators': 1000}\n",
      "0.943736 (0.038472) with: {'learning_rate': 0.1, 'max_depth': 3, 'n_estimators': 10}\n",
      "0.959034 (0.032328) with: {'learning_rate': 0.1, 'max_depth': 3, 'n_estimators': 50}\n",
      "0.959742 (0.032519) with: {'learning_rate': 0.1, 'max_depth': 3, 'n_estimators': 100}\n",
      "0.961916 (0.032029) with: {'learning_rate': 0.1, 'max_depth': 3, 'n_estimators': 500}\n",
      "0.964122 (0.031259) with: {'learning_rate': 0.1, 'max_depth': 3, 'n_estimators': 1000}\n",
      "0.940032 (0.034603) with: {'learning_rate': 0.1, 'max_depth': 7, 'n_estimators': 10}\n",
      "0.938535 (0.035308) with: {'learning_rate': 0.1, 'max_depth': 7, 'n_estimators': 50}\n",
      "0.939984 (0.039444) with: {'learning_rate': 0.1, 'max_depth': 7, 'n_estimators': 100}\n",
      "0.937053 (0.035089) with: {'learning_rate': 0.1, 'max_depth': 7, 'n_estimators': 500}\n",
      "0.934911 (0.035688) with: {'learning_rate': 0.1, 'max_depth': 7, 'n_estimators': 1000}\n",
      "0.942963 (0.032414) with: {'learning_rate': 0.1, 'max_depth': 9, 'n_estimators': 10}\n",
      "0.943607 (0.036903) with: {'learning_rate': 0.1, 'max_depth': 9, 'n_estimators': 50}\n",
      "0.940000 (0.037372) with: {'learning_rate': 0.1, 'max_depth': 9, 'n_estimators': 100}\n",
      "0.938535 (0.036699) with: {'learning_rate': 0.1, 'max_depth': 9, 'n_estimators': 500}\n",
      "0.936361 (0.035209) with: {'learning_rate': 0.1, 'max_depth': 9, 'n_estimators': 1000}\n",
      "0.934895 (0.038375) with: {'learning_rate': 0.1, 'max_depth': 11, 'n_estimators': 10}\n",
      "0.941433 (0.038433) with: {'learning_rate': 0.1, 'max_depth': 11, 'n_estimators': 50}\n",
      "0.940709 (0.038328) with: {'learning_rate': 0.1, 'max_depth': 11, 'n_estimators': 100}\n",
      "0.938535 (0.036268) with: {'learning_rate': 0.1, 'max_depth': 11, 'n_estimators': 500}\n",
      "0.936361 (0.036527) with: {'learning_rate': 0.1, 'max_depth': 11, 'n_estimators': 1000}\n",
      "0.950274 (0.034866) with: {'learning_rate': 1.0, 'max_depth': 3, 'n_estimators': 10}\n",
      "0.965588 (0.030878) with: {'learning_rate': 1.0, 'max_depth': 3, 'n_estimators': 50}\n",
      "0.965556 (0.030373) with: {'learning_rate': 1.0, 'max_depth': 3, 'n_estimators': 100}\n",
      "0.958953 (0.030429) with: {'learning_rate': 1.0, 'max_depth': 3, 'n_estimators': 500}\n",
      "0.956039 (0.032110) with: {'learning_rate': 1.0, 'max_depth': 3, 'n_estimators': 1000}\n",
      "0.940773 (0.031214) with: {'learning_rate': 1.0, 'max_depth': 7, 'n_estimators': 10}\n",
      "0.937810 (0.035235) with: {'learning_rate': 1.0, 'max_depth': 7, 'n_estimators': 50}\n",
      "0.934187 (0.039656) with: {'learning_rate': 1.0, 'max_depth': 7, 'n_estimators': 100}\n",
      "0.925427 (0.036164) with: {'learning_rate': 1.0, 'max_depth': 7, 'n_estimators': 500}\n",
      "0.922528 (0.038694) with: {'learning_rate': 1.0, 'max_depth': 7, 'n_estimators': 1000}\n",
      "0.937810 (0.034226) with: {'learning_rate': 1.0, 'max_depth': 9, 'n_estimators': 10}\n",
      "0.940757 (0.034235) with: {'learning_rate': 1.0, 'max_depth': 9, 'n_estimators': 50}\n",
      "0.933398 (0.037994) with: {'learning_rate': 1.0, 'max_depth': 9, 'n_estimators': 100}\n",
      "0.926876 (0.037780) with: {'learning_rate': 1.0, 'max_depth': 9, 'n_estimators': 500}\n",
      "0.927601 (0.036872) with: {'learning_rate': 1.0, 'max_depth': 9, 'n_estimators': 1000}\n",
      "0.937810 (0.036961) with: {'learning_rate': 1.0, 'max_depth': 11, 'n_estimators': 10}\n",
      "0.937778 (0.036632) with: {'learning_rate': 1.0, 'max_depth': 11, 'n_estimators': 50}\n",
      "0.936361 (0.034220) with: {'learning_rate': 1.0, 'max_depth': 11, 'n_estimators': 100}\n",
      "0.926876 (0.037780) with: {'learning_rate': 1.0, 'max_depth': 11, 'n_estimators': 500}\n",
      "0.926876 (0.037780) with: {'learning_rate': 1.0, 'max_depth': 11, 'n_estimators': 1000}\n"
     ]
    }
   ],
   "source": [
    "# Printing all scores that were evaluated\n",
    "means = grid_result.cv_results_['mean_test_score']\n",
    "stds = grid_result.cv_results_['std_test_score']\n",
    "params = grid_result.cv_results_['params']\n",
    "for mean, stdev, param in zip(means, stds, params):\n",
    "    print(\"%f (%f) with: %r\" % (mean, stdev, param))"
   ]
  },
  {
   "cell_type": "code",
   "execution_count": 122,
   "metadata": {},
   "outputs": [
    {
     "name": "stdout",
     "output_type": "stream",
     "text": [
      "Best: 0.965588 using {'learning_rate': 1.0, 'max_depth': 3, 'n_estimators': 50}\n"
     ]
    }
   ],
   "source": [
    "# printing the best score and configuration found using grid search\n",
    "print(\"Best: %f using %s\" % (grid_result.best_score_, grid_result.best_params_))"
   ]
  },
  {
   "cell_type": "markdown",
   "metadata": {},
   "source": [
    "**Conclusion**   \n",
    "\n",
    "Best accuracy using hyperparameters - 96.5% \n",
    "\n",
    "Hence we see that the accuracy is further increased by 0.5 by using hyperparameters, although it takes more computational resources and time to perform the task as compared to the vanilla gradient boosting model discussed first in this notebook. \n",
    "\n",
    "We can further explore other hyperparameters to analyse their impact on the model accuracy \n",
    "\n",
    "Note: Gradient boosting algorithms are more robust to outliers and more flexible in general when it comes to solving the differential loss problem, as compared to ADA Boost model. Hence we chose gradient boosting for this classification problem. "
   ]
  }
 ],
 "metadata": {
  "kernelspec": {
   "display_name": "Python 3",
   "language": "python",
   "name": "python3"
  },
  "language_info": {
   "codemirror_mode": {
    "name": "ipython",
    "version": 3
   },
   "file_extension": ".py",
   "mimetype": "text/x-python",
   "name": "python",
   "nbconvert_exporter": "python",
   "pygments_lexer": "ipython3",
   "version": "3.7.4"
  }
 },
 "nbformat": 4,
 "nbformat_minor": 2
}
